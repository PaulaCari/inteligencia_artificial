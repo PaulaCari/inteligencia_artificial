{
 "cells": [
  {
   "cell_type": "markdown",
   "metadata": {},
   "source": [
    "#### Projeto 04 "
   ]
  },
  {
   "cell_type": "markdown",
   "metadata": {},
   "source": [
    "-Inteligencia artificial     Visão computacional"
   ]
  },
  {
   "cell_type": "code",
   "execution_count": null,
   "metadata": {},
   "outputs": [],
   "source": [
    "import midiapipe     #para visão computacional reconhecimento de face, craqueamento de mãos\n",
    "import cvzone        # utiliza o midiapipe facilitando seu uso\n",
    "import opencv-python #captura de imagem, videos"
   ]
  },
  {
   "cell_type": "markdown",
   "metadata": {},
   "source": [
    "####  for"
   ]
  },
  {
   "cell_type": "code",
   "execution_count": 7,
   "metadata": {},
   "outputs": [
    {
     "name": "stdout",
     "output_type": "stream",
     "text": [
      "1\n",
      "2\n",
      "3\n",
      "4\n",
      "5\n"
     ]
    }
   ],
   "source": [
    "num = [1, 2, 3, 4, 5]\n",
    "for numero in num:\n",
    "    print(numero)"
   ]
  },
  {
   "cell_type": "markdown",
   "metadata": {},
   "source": [
    "#### loop while"
   ]
  },
  {
   "cell_type": "code",
   "execution_count": 11,
   "metadata": {},
   "outputs": [
    {
     "name": "stdout",
     "output_type": "stream",
     "text": [
      "5\n",
      "4\n",
      "3\n",
      "2\n",
      "1\n"
     ]
    }
   ],
   "source": [
    "contador = 5\n",
    "while contador > 0:\n",
    "    print(contador)\n",
    "    contador-=1    #contador = contador - 1"
   ]
  },
  {
   "cell_type": "markdown",
   "metadata": {},
   "source": [
    "#### testes logicas com if"
   ]
  },
  {
   "cell_type": "code",
   "execution_count": 2,
   "metadata": {},
   "outputs": [
    {
     "name": "stdout",
     "output_type": "stream",
     "text": [
      "Técnologia em alta\n"
     ]
    }
   ],
   "source": [
    "linguagem = input(\"escreva alguma tecnologia: \")\n",
    "if linguagem == \"Inteligencia artificial\":\n",
    "    print(\"Técnologia em alta\")\n",
    "else:\n",
    "    print(\"poderia estudar IA\")"
   ]
  },
  {
   "cell_type": "markdown",
   "metadata": {},
   "source": [
    "#### Lopps infinitos"
   ]
  },
  {
   "cell_type": "code",
   "execution_count": 3,
   "metadata": {},
   "outputs": [
    {
     "name": "stdout",
     "output_type": "stream",
     "text": [
      "casa\n",
      "da tecnologia\n",
      "IA\n",
      "parar\n"
     ]
    }
   ],
   "source": [
    "while True:\n",
    "    mensagem = input(\"Digite algo: \")\n",
    "    print(mensagem)\n",
    "    if mensagem == \"parar\":\n",
    "        break\n"
   ]
  },
  {
   "cell_type": "code",
   "execution_count": null,
   "metadata": {},
   "outputs": [],
   "source": [
    "'''\n",
    "#Para ligar a camara\n",
    "import cv2    # da biblioteca opencv\n",
    "from cvzone.HandTrackingModule import HandDetector\n",
    "\n",
    "webcam = cv2.VideoCapture(0)  #zero é indice da camara da webcam do computador se tiver mais camaras o num mudaria\n",
    "\n",
    "while True:\n",
    "    sucesso, imagem = webcam.read()   \n",
    "\n",
    "    #o comando retorna 2 valores por isso tem 2 variaveis (read vai leer dados da webcam e o dado sera a var sucesso vai ler True ou False, True sim consigue capturar a imagem de sua camara )\n",
    "\n",
    "    cv2.imshow(\"pojeto 4 - IA\", imagem)\n",
    "    #imshow mostra a var imagem\n",
    "\n",
    "    if cv2.waitKey(1) != -1:   \n",
    "        # para quebra o loop watkey aguardar uma tecla  a cada 1 ilesegundo ele retorna -1 (qualquer tecla fecha a camara)\n",
    "        break\n",
    "    \n",
    "webcam.release()\n",
    "#para liberar o depositivo\n",
    "cv2.destroyAllWindows()\n",
    "# fecha a janela \n",
    "'''"
   ]
  }
 ],
 "metadata": {
  "kernelspec": {
   "display_name": "Python 3",
   "language": "python",
   "name": "python3"
  },
  "language_info": {
   "codemirror_mode": {
    "name": "ipython",
    "version": 3
   },
   "file_extension": ".py",
   "mimetype": "text/x-python",
   "name": "python",
   "nbconvert_exporter": "python",
   "pygments_lexer": "ipython3",
   "version": "3.11.4"
  }
 },
 "nbformat": 4,
 "nbformat_minor": 2
}
